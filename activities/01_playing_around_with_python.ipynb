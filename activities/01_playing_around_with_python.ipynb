{
 "cells": [
  {
   "cell_type": "markdown",
   "metadata": {},
   "source": [
    "# Python \n",
    "\n",
    "## Step 1: Setting Up Your Environment\n",
    "**Objective**: Install and configure a Jupyter Notebook environment on your computer or access one online (e.g., through Google Colab).\n",
    "\n",
    "**Steps**:\n",
    "1. **Install Anaconda**: Download and install Anaconda, a free distribution that includes Python, NumPy, Pandas, Matplotlib, and other essential packages for data science. Follow the installation instructions based on your operating system: [Anaconda Installation Guide](https://www.anaconda.com/products/distribution).\n",
    "2. **Start Jupyter Notebook**: Open a terminal or command prompt, type `jupyter notebook`, and press Enter to start the Jupyter server. This will open a web browser displaying the Jupyter interface where you can create new notebooks. Alternatively, use online services like Google Colab that provide free access without local setup.\n",
    "3. **Create Your First Notebook**: In the Jupyter interface, click on “New” and then select “Python 3” to create a notebook for Python scripting.\n",
    "\n",
    "## Step 2: Running Your First Code\n",
    "**Objective**: Write and run your first piece of code in a Jupyter Notebook.\n",
    "\n",
    "**Steps**:\n",
    "1. **Write Code**: In the first cell, type `print(\"Hello, World!\")` and click Run (or press ctrl + Shift + P for Windows, or visit [jupyter notebook.google.com](http://localhost)\n",
    "\n",
    "\n",
    "# Install Python Libraries\n",
    "\n",
    "For installing specific library like numpy, use the command prompt install!pip install numpy to add anaconda repository or run the notebook. \n",
    "\n",
    "import numpy as np\n",
    "print(\"Hello World Code\")\n",
    "\n",
    "\n",
    "```python\n",
    "and run your first program with basic python script using Jupyter Notebook environment setup**: If you don't have Python code in a cell, write and run \"Hello, World!\"`. Then execute it by pressing shift+enter or the play button above. Run Hello, world! printed on screen after execution.\n",
    "3. **Run Code Cells** Once you can type more advanced python code snippets like `NumPy` arrays, data manipulation operations using pandas as well (such as plots and results are displayed inline with markdown cells\n",
    "# Basic Python Syntax Example: Simple Math Operations \n",
    "```python\n",
    "Learn basic math operation in a simple syntax and functions. For example, do this to run some arithmetic operations like adding two numbers or defining variables and running them through various mathematical calculations such as `a=2`+b=`3`) using standard python operators`. Run the cell by pressing shift+enter or clicking play button at top right corner of cell, which will display results directly inline within cells without needing another editor.\n",
    "# Markdown\n",
    "For adding formatted text and code, use # for headers in markdown cells to structure your notes better. For example, you can create a new cell below the previous code block, type \"# Header 1\", \"##Header2\" etc., to organize thoughts sectioning of your notebook with headings. Save changes using ctrl+s for saving or clicking save button on top menu bar).\n",
    "\n",
    "# Basic Error Handling in Python (Optional)\n",
    "For adding optional content and troubleshooting, here is some basic error handling syntax errors that can occur when coding: For example, try running incorrect code snippets like \"print(\"Hello World!\")\" should be corrected to `print`(\"Hello World!\")`. This will throw an error. Correct it by fixing the typo or changing quotation marks around the string`. Run the cell again and correct syntax in python scripts or terminal using proper indentation or parentheses (`print('Hello, World!')\n",
    "5 steps provide a simple guide for beginners to get started with Python programming on their local machine or online environment setup like Jupyter Notebook.  is crucial for learning but also practicing and applying theoretical knowledge by executing code directly seeing the results in real-time feedback loop.\n",
    "```markdown\n",
    "# Install Python & Run Code Step by Step:\n"
   ]
  },
  {
   "cell_type": "markdown",
   "metadata": {},
   "source": [
    "\n",
    "\n",
    "```python\n",
    "and run your first program with basic python script using Jupyter Notebook environment setup**: If you don't have Python code in a cell, write and run \"Hello, World!\"`. Then execute it by pressing shift+enter or the play button above. Run Hello, world! printed on screen after execution.\n",
    "3. **Run Code Cells** Once you can type more advanced python code snippets like `NumPy` arrays, data manipulation operations using pandas as well (such as plots and results are displayed inline with markdown cells\n",
    "# Basic Python Syntax Example: Simple Math Operations \n",
    "```python\n",
    "Learn basic math operation in a simple syntax and functions. For example, do this to run some arithmetic operations like adding two numbers or defining variables and running them through various mathematical calculations such as `a=2`+b=`3`) using standard python operators`. Run the cell by pressing shift+enter or clicking play button at top right corner of cell, which will display results directly inline within cells without needing another editor.\n",
    "# Markdown\n",
    "For adding formatted text and code, use # for headers in markdown cells to structure your notes better. For example, you can create a new cell below the previous code block, type \"# Header 1\", \"##Header2\" etc., to organize thoughts sectioning of your notebook with headings. Save changes using ctrl+s for saving or clicking save button on top menu bar).\n",
    "\n",
    "# Basic Error Handling in Python (Optional)\n",
    "For adding optional content and troubleshooting, here is some basic error handling syntax errors that can occur when coding: For example, try running incorrect code snippets like \"print(\"Hello World!\")\" should be corrected to `print`(\"Hello World!\")`. This will throw an error. Correct it by fixing the typo or changing quotation marks around the string`. Run the cell again and correct syntax in python scripts or terminal using proper indentation or parentheses (`print('Hello, World!')\n",
    "5 steps provide a simple guide for beginners to get started with Python programming on their local machine or online environment setup like Jupyter Notebook.  is crucial for learning but also practicing and applying theoretical knowledge by executing code directly seeing the results in real-time feedback loop.\n",
    "```markdown\n",
    "# Install Python & Run Code Step by Step:\n"
   ]
  }
 ],
 "metadata": {
  "language_info": {
   "name": "python"
  }
 },
 "nbformat": 4,
 "nbformat_minor": 2
}
